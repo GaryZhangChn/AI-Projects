{
  "nbformat": 4,
  "nbformat_minor": 0,
  "metadata": {
    "colab": {
      "provenance": []
    },
    "kernelspec": {
      "name": "python3",
      "display_name": "Python 3"
    },
    "language_info": {
      "name": "python"
    }
  },
  "cells": [
    {
      "cell_type": "code",
      "execution_count": null,
      "metadata": {
        "id": "Rg8b_L3GhDS-"
      },
      "outputs": [],
      "source": [
        "# calculate the regression lines for BTC, DJI, and SP500\n",
        "import pandas as pd\n",
        "import numpy as np\n",
        "from matplotlib import pyplot as plt\n",
        "from sklearn import linear_model\n"
      ]
    },
    {
      "cell_type": "code",
      "source": [
        "data = pd.read_csv('./Sheet 1-2021RawData.csv')"
      ],
      "metadata": {
        "id": "t627AP3Pig1d"
      },
      "execution_count": null,
      "outputs": []
    },
    {
      "cell_type": "code",
      "source": [
        "data.info()\n",
        "BTC_Monthly = data.groupby('Month').BTC.mean().reset_index()\n",
        "BTC_Monthly\n"
      ],
      "metadata": {
        "colab": {
          "base_uri": "https://localhost:8080/",
          "height": 608
        },
        "id": "opAXcPjiiusu",
        "outputId": "7358cb15-b29e-47db-ece8-55b7929be808"
      },
      "execution_count": null,
      "outputs": [
        {
          "output_type": "stream",
          "name": "stdout",
          "text": [
            "<class 'pandas.core.frame.DataFrame'>\n",
            "RangeIndex: 12 entries, 0 to 11\n",
            "Data columns (total 4 columns):\n",
            " #   Column  Non-Null Count  Dtype  \n",
            "---  ------  --------------  -----  \n",
            " 0   Month   12 non-null     int64  \n",
            " 1   BTC     12 non-null     float64\n",
            " 2   DJI     12 non-null     float64\n",
            " 3   SP500   12 non-null     float64\n",
            "dtypes: float64(3), int64(1)\n",
            "memory usage: 512.0 bytes\n"
          ]
        },
        {
          "output_type": "execute_result",
          "data": {
            "text/plain": [
              "    Month       BTC\n",
              "0       1  34622.37\n",
              "1       2  46642.61\n",
              "2       3  58734.48\n",
              "3       4  53260.30\n",
              "4       5  35749.66\n",
              "5       6  35945.79\n",
              "6       7  41157.15\n",
              "7       8  47663.02\n",
              "8       9  41412.61\n",
              "9      10  61374.28\n",
              "10     11  57834.36\n",
              "11     12  47128.47"
            ],
            "text/html": [
              "\n",
              "  <div id=\"df-ce9f85fd-96bd-4929-a40f-860a7e7e3f64\">\n",
              "    <div class=\"colab-df-container\">\n",
              "      <div>\n",
              "<style scoped>\n",
              "    .dataframe tbody tr th:only-of-type {\n",
              "        vertical-align: middle;\n",
              "    }\n",
              "\n",
              "    .dataframe tbody tr th {\n",
              "        vertical-align: top;\n",
              "    }\n",
              "\n",
              "    .dataframe thead th {\n",
              "        text-align: right;\n",
              "    }\n",
              "</style>\n",
              "<table border=\"1\" class=\"dataframe\">\n",
              "  <thead>\n",
              "    <tr style=\"text-align: right;\">\n",
              "      <th></th>\n",
              "      <th>Month</th>\n",
              "      <th>BTC</th>\n",
              "    </tr>\n",
              "  </thead>\n",
              "  <tbody>\n",
              "    <tr>\n",
              "      <th>0</th>\n",
              "      <td>1</td>\n",
              "      <td>34622.37</td>\n",
              "    </tr>\n",
              "    <tr>\n",
              "      <th>1</th>\n",
              "      <td>2</td>\n",
              "      <td>46642.61</td>\n",
              "    </tr>\n",
              "    <tr>\n",
              "      <th>2</th>\n",
              "      <td>3</td>\n",
              "      <td>58734.48</td>\n",
              "    </tr>\n",
              "    <tr>\n",
              "      <th>3</th>\n",
              "      <td>4</td>\n",
              "      <td>53260.30</td>\n",
              "    </tr>\n",
              "    <tr>\n",
              "      <th>4</th>\n",
              "      <td>5</td>\n",
              "      <td>35749.66</td>\n",
              "    </tr>\n",
              "    <tr>\n",
              "      <th>5</th>\n",
              "      <td>6</td>\n",
              "      <td>35945.79</td>\n",
              "    </tr>\n",
              "    <tr>\n",
              "      <th>6</th>\n",
              "      <td>7</td>\n",
              "      <td>41157.15</td>\n",
              "    </tr>\n",
              "    <tr>\n",
              "      <th>7</th>\n",
              "      <td>8</td>\n",
              "      <td>47663.02</td>\n",
              "    </tr>\n",
              "    <tr>\n",
              "      <th>8</th>\n",
              "      <td>9</td>\n",
              "      <td>41412.61</td>\n",
              "    </tr>\n",
              "    <tr>\n",
              "      <th>9</th>\n",
              "      <td>10</td>\n",
              "      <td>61374.28</td>\n",
              "    </tr>\n",
              "    <tr>\n",
              "      <th>10</th>\n",
              "      <td>11</td>\n",
              "      <td>57834.36</td>\n",
              "    </tr>\n",
              "    <tr>\n",
              "      <th>11</th>\n",
              "      <td>12</td>\n",
              "      <td>47128.47</td>\n",
              "    </tr>\n",
              "  </tbody>\n",
              "</table>\n",
              "</div>\n",
              "      <button class=\"colab-df-convert\" onclick=\"convertToInteractive('df-ce9f85fd-96bd-4929-a40f-860a7e7e3f64')\"\n",
              "              title=\"Convert this dataframe to an interactive table.\"\n",
              "              style=\"display:none;\">\n",
              "        \n",
              "  <svg xmlns=\"http://www.w3.org/2000/svg\" height=\"24px\"viewBox=\"0 0 24 24\"\n",
              "       width=\"24px\">\n",
              "    <path d=\"M0 0h24v24H0V0z\" fill=\"none\"/>\n",
              "    <path d=\"M18.56 5.44l.94 2.06.94-2.06 2.06-.94-2.06-.94-.94-2.06-.94 2.06-2.06.94zm-11 1L8.5 8.5l.94-2.06 2.06-.94-2.06-.94L8.5 2.5l-.94 2.06-2.06.94zm10 10l.94 2.06.94-2.06 2.06-.94-2.06-.94-.94-2.06-.94 2.06-2.06.94z\"/><path d=\"M17.41 7.96l-1.37-1.37c-.4-.4-.92-.59-1.43-.59-.52 0-1.04.2-1.43.59L10.3 9.45l-7.72 7.72c-.78.78-.78 2.05 0 2.83L4 21.41c.39.39.9.59 1.41.59.51 0 1.02-.2 1.41-.59l7.78-7.78 2.81-2.81c.8-.78.8-2.07 0-2.86zM5.41 20L4 18.59l7.72-7.72 1.47 1.35L5.41 20z\"/>\n",
              "  </svg>\n",
              "      </button>\n",
              "      \n",
              "  <style>\n",
              "    .colab-df-container {\n",
              "      display:flex;\n",
              "      flex-wrap:wrap;\n",
              "      gap: 12px;\n",
              "    }\n",
              "\n",
              "    .colab-df-convert {\n",
              "      background-color: #E8F0FE;\n",
              "      border: none;\n",
              "      border-radius: 50%;\n",
              "      cursor: pointer;\n",
              "      display: none;\n",
              "      fill: #1967D2;\n",
              "      height: 32px;\n",
              "      padding: 0 0 0 0;\n",
              "      width: 32px;\n",
              "    }\n",
              "\n",
              "    .colab-df-convert:hover {\n",
              "      background-color: #E2EBFA;\n",
              "      box-shadow: 0px 1px 2px rgba(60, 64, 67, 0.3), 0px 1px 3px 1px rgba(60, 64, 67, 0.15);\n",
              "      fill: #174EA6;\n",
              "    }\n",
              "\n",
              "    [theme=dark] .colab-df-convert {\n",
              "      background-color: #3B4455;\n",
              "      fill: #D2E3FC;\n",
              "    }\n",
              "\n",
              "    [theme=dark] .colab-df-convert:hover {\n",
              "      background-color: #434B5C;\n",
              "      box-shadow: 0px 1px 3px 1px rgba(0, 0, 0, 0.15);\n",
              "      filter: drop-shadow(0px 1px 2px rgba(0, 0, 0, 0.3));\n",
              "      fill: #FFFFFF;\n",
              "    }\n",
              "  </style>\n",
              "\n",
              "      <script>\n",
              "        const buttonEl =\n",
              "          document.querySelector('#df-ce9f85fd-96bd-4929-a40f-860a7e7e3f64 button.colab-df-convert');\n",
              "        buttonEl.style.display =\n",
              "          google.colab.kernel.accessAllowed ? 'block' : 'none';\n",
              "\n",
              "        async function convertToInteractive(key) {\n",
              "          const element = document.querySelector('#df-ce9f85fd-96bd-4929-a40f-860a7e7e3f64');\n",
              "          const dataTable =\n",
              "            await google.colab.kernel.invokeFunction('convertToInteractive',\n",
              "                                                     [key], {});\n",
              "          if (!dataTable) return;\n",
              "\n",
              "          const docLinkHtml = 'Like what you see? Visit the ' +\n",
              "            '<a target=\"_blank\" href=https://colab.research.google.com/notebooks/data_table.ipynb>data table notebook</a>'\n",
              "            + ' to learn more about interactive tables.';\n",
              "          element.innerHTML = '';\n",
              "          dataTable['output_type'] = 'display_data';\n",
              "          await google.colab.output.renderOutput(dataTable, element);\n",
              "          const docLink = document.createElement('div');\n",
              "          docLink.innerHTML = docLinkHtml;\n",
              "          element.appendChild(docLink);\n",
              "        }\n",
              "      </script>\n",
              "    </div>\n",
              "  </div>\n",
              "  "
            ]
          },
          "metadata": {},
          "execution_count": 10
        }
      ]
    },
    {
      "cell_type": "code",
      "source": [
        "X = BTC_Monthly['Month']\n",
        "X = X.values.reshape(-1,1)\n",
        "X"
      ],
      "metadata": {
        "colab": {
          "base_uri": "https://localhost:8080/"
        },
        "id": "aIfqgSx-lWWf",
        "outputId": "13658419-1c43-4713-d027-ea328c388d22"
      },
      "execution_count": null,
      "outputs": [
        {
          "output_type": "execute_result",
          "data": {
            "text/plain": [
              "array([[ 1],\n",
              "       [ 2],\n",
              "       [ 3],\n",
              "       [ 4],\n",
              "       [ 5],\n",
              "       [ 6],\n",
              "       [ 7],\n",
              "       [ 8],\n",
              "       [ 9],\n",
              "       [10],\n",
              "       [11],\n",
              "       [12]])"
            ]
          },
          "metadata": {},
          "execution_count": 20
        }
      ]
    },
    {
      "cell_type": "code",
      "source": [
        "y = BTC_Monthly['BTC']\n",
        "y"
      ],
      "metadata": {
        "colab": {
          "base_uri": "https://localhost:8080/"
        },
        "id": "6exc3_5CnOol",
        "outputId": "8ddb843b-2e26-4dfe-8b35-3fd32e1fe33d"
      },
      "execution_count": null,
      "outputs": [
        {
          "output_type": "execute_result",
          "data": {
            "text/plain": [
              "0     34622.37\n",
              "1     46642.61\n",
              "2     58734.48\n",
              "3     53260.30\n",
              "4     35749.66\n",
              "5     35945.79\n",
              "6     41157.15\n",
              "7     47663.02\n",
              "8     41412.61\n",
              "9     61374.28\n",
              "10    57834.36\n",
              "11    47128.47\n",
              "Name: BTC, dtype: float64"
            ]
          },
          "metadata": {},
          "execution_count": 21
        }
      ]
    },
    {
      "cell_type": "code",
      "source": [
        "plt.scatter(X, y)\n",
        "plt.xlabel('Month')\n",
        "plt.ylabel('BTC Price')\n",
        "plt.show()"
      ],
      "metadata": {
        "colab": {
          "base_uri": "https://localhost:8080/",
          "height": 279
        },
        "id": "00ZvFWSsnSdV",
        "outputId": "a6fbf3dc-4734-494e-eebb-cb3c5b50c10c"
      },
      "execution_count": null,
      "outputs": [
        {
          "output_type": "display_data",
          "data": {
            "text/plain": [
              "<Figure size 432x288 with 1 Axes>"
            ],
            "image/png": "[encoded data removed]"
          },
          "metadata": {
            "needs_background": "light"
          }
        }
      ]
    },
    {
      "cell_type": "code",
      "source": [
        "model = linear_model.LinearRegression()\n",
        "model.fit(X,y)\n",
        "print(model.coef_)\n",
        "print(model.intercept_)"
      ],
      "metadata": {
        "colab": {
          "base_uri": "https://localhost:8080/"
        },
        "id": "DPCX4HTlndDV",
        "outputId": "ea885eaf-7570-4681-f458-68e190673304"
      },
      "execution_count": null,
      "outputs": [
        {
          "output_type": "stream",
          "name": "stdout",
          "text": [
            "[833.86167832]\n",
            "41373.657424242425\n"
          ]
        }
      ]
    },
    {
      "cell_type": "code",
      "source": [
        "y_pred = model.predict(X)\n",
        "plt.scatter(X, y)\n",
        "plt.plot(X, y_pred, 'r')\n",
        "plt.xlabel('Month')\n",
        "plt.ylabel('BTC Price')\n",
        "plt.show()"
      ],
      "metadata": {
        "colab": {
          "base_uri": "https://localhost:8080/",
          "height": 279
        },
        "id": "m2ggh6jgoDOW",
        "outputId": "8d5726b3-e602-4135-8331-bed70ac65833"
      },
      "execution_count": null,
      "outputs": [
        {
          "output_type": "display_data",
          "data": {
            "text/plain": [
              "<Figure size 432x288 with 1 Axes>"
            ],
            "image/png": "[encoded data removed]"
          },
          "metadata": {
            "needs_background": "light"
          }
        }
      ]
    },
    {
      "cell_type": "code",
      "source": [
        "for x in range(12):\n",
        "  pred = X[x][0] * model.coef_[0] + model.intercept_\n",
        "  print(pred)\n",
        "  print(y_pred[x])"
      ],
      "metadata": {
        "colab": {
          "base_uri": "https://localhost:8080/"
        },
        "id": "9bSPWv9moP1N",
        "outputId": "0a0165fb-0491-4c6f-b81a-88db9754cf17"
      },
      "execution_count": null,
      "outputs": [
        {
          "output_type": "stream",
          "name": "stdout",
          "text": [
            "42207.5191025641\n",
            "42207.5191025641\n",
            "43041.38078088578\n",
            "43041.38078088578\n",
            "43875.24245920746\n",
            "43875.24245920746\n",
            "44709.10413752914\n",
            "44709.10413752914\n",
            "45542.96581585081\n",
            "45542.96581585081\n",
            "46376.827494172496\n",
            "46376.827494172496\n",
            "47210.68917249417\n",
            "47210.68917249417\n",
            "48044.550850815845\n",
            "48044.550850815845\n",
            "48878.412529137524\n",
            "48878.412529137524\n",
            "49712.2742074592\n",
            "49712.2742074592\n",
            "50546.13588578088\n",
            "50546.13588578088\n",
            "51379.99756410256\n",
            "51379.99756410256\n"
          ]
        }
      ]
    },
    {
      "cell_type": "code",
      "source": [
        "# Doing same thing for Dow Jones\n",
        "DJI_Monthly = data.groupby('Month').DJI.mean().reset_index()\n",
        "X = DJI_Monthly['Month']\n",
        "X = X.values.reshape(-1,1)\n",
        "y = DJI_Monthly['DJI']\n",
        "plt.scatter(X, y)\n",
        "plt.xlabel('Month')\n",
        "plt.ylabel('DJI Price')\n",
        "plt.show()"
      ],
      "metadata": {
        "colab": {
          "base_uri": "https://localhost:8080/",
          "height": 279
        },
        "id": "A7GUTygSp3Jf",
        "outputId": "02e28d11-e85f-42b2-b8b1-2840e2a5063c"
      },
      "execution_count": null,
      "outputs": [
        {
          "output_type": "display_data",
          "data": {
            "text/plain": [
              "<Figure size 432x288 with 1 Axes>"
            ],
            "image/png": "[encoded data removed]"
          },
          "metadata": {
            "needs_background": "light"
          }
        }
      ]
    },
    {
      "cell_type": "code",
      "source": [
        "# Regression line for Dow Jones\n",
        "model = linear_model.LinearRegression()\n",
        "model.fit(X,y)\n",
        "print(model.coef_)\n",
        "print(model.intercept_)\n",
        "y_pred = model.predict(X)\n",
        "plt.scatter(X, y)\n",
        "plt.plot(X, y_pred, 'r')\n",
        "plt.xlabel('Month')\n",
        "plt.ylabel('BTC Price')\n",
        "plt.show()"
      ],
      "metadata": {
        "colab": {
          "base_uri": "https://localhost:8080/",
          "height": 313
        },
        "id": "04o3f0uuqu8w",
        "outputId": "51c96a10-39e7-4222-88a2-fff046c3bb50"
      },
      "execution_count": null,
      "outputs": [
        {
          "output_type": "stream",
          "name": "stdout",
          "text": [
            "[435.35961538]\n",
            "31135.58333333333\n"
          ]
        },
        {
          "output_type": "display_data",
          "data": {
            "text/plain": [
              "<Figure size 432x288 with 1 Axes>"
            ],
            "image/png": "[encoded data removed]"
          },
          "metadata": {
            "needs_background": "light"
          }
        }
      ]
    },
    {
      "cell_type": "code",
      "source": [
        "# Dow Jones predictions with Linear Regression\n",
        "for x in range(12):\n",
        "  # pred = X[x][0] * model.coef_[0] + model.intercept_\n",
        "  # print(pred)\n",
        "  print(y_pred[x])"
      ],
      "metadata": {
        "colab": {
          "base_uri": "https://localhost:8080/"
        },
        "id": "CQbCvV-6rKzm",
        "outputId": "f31aeec7-72cf-4587-d04a-66b6c0430f97"
      },
      "execution_count": null,
      "outputs": [
        {
          "output_type": "stream",
          "name": "stdout",
          "text": [
            "31570.942948717944\n",
            "32006.30256410256\n",
            "32441.662179487175\n",
            "32877.02179487179\n",
            "33312.38141025641\n",
            "33747.74102564102\n",
            "34183.10064102564\n",
            "34618.46025641025\n",
            "35053.81987179487\n",
            "35489.179487179485\n",
            "35924.5391025641\n",
            "36359.898717948716\n"
          ]
        }
      ]
    },
    {
      "cell_type": "code",
      "source": [
        "# S&P500 Linear Regression calculation\n",
        "SP500_Monthly = data.groupby('Month').SP500.mean().reset_index()\n",
        "X = SP500_Monthly['Month']\n",
        "X = X.values.reshape(-1,1)\n",
        "y = SP500_Monthly['SP500']\n",
        "# plt.scatter(X, y)\n",
        "# plt.xlabel('Month')\n",
        "# plt.ylabel('SP500 Price')\n",
        "# plt.show()\n",
        "model = linear_model.LinearRegression()\n",
        "model.fit(X,y)\n",
        "print(model.coef_)\n",
        "print(model.intercept_)\n",
        "y_pred = model.predict(X)\n",
        "plt.scatter(X, y)\n",
        "plt.plot(X, y_pred, 'r')\n",
        "plt.xlabel('Month')\n",
        "plt.ylabel('S&P500')\n",
        "plt.show()"
      ],
      "metadata": {
        "id": "Bre-gziBqTu2",
        "colab": {
          "base_uri": "https://localhost:8080/",
          "height": 314
        },
        "outputId": "918ed82e-217e-4a37-b86f-ebb52caa668a"
      },
      "execution_count": null,
      "outputs": [
        {
          "output_type": "stream",
          "name": "stdout",
          "text": [
            "[85.61797203]\n",
            "3722.241515151515\n"
          ]
        },
        {
          "output_type": "display_data",
          "data": {
            "text/plain": [
              "<Figure size 432x288 with 1 Axes>"
            ],
            "image/png": "[encoded data removed]"
          },
          "metadata": {
            "needs_background": "light"
          }
        }
      ]
    },
    {
      "cell_type": "code",
      "source": [
        "# S&P500 predictions with Linear Regression\n",
        "for x in range(12):\n",
        "  # pred = X[x][0] * model.coef_[0] + model.intercept_\n",
        "  # print(pred)\n",
        "  print(y_pred[x])"
      ],
      "metadata": {
        "colab": {
          "base_uri": "https://localhost:8080/"
        },
        "id": "D2uj0ooLufzG",
        "outputId": "c1206dd6-ad01-433a-9afa-10d3e0d48a5e"
      },
      "execution_count": null,
      "outputs": [
        {
          "output_type": "stream",
          "name": "stdout",
          "text": [
            "3807.859487179487\n",
            "3893.477459207459\n",
            "3979.0954312354315\n",
            "4064.7134032634035\n",
            "4150.3313752913755\n",
            "4235.949347319347\n",
            "4321.567319347319\n",
            "4407.185291375292\n",
            "4492.803263403263\n",
            "4578.421235431236\n",
            "4664.039207459207\n",
            "4749.65717948718\n"
          ]
        }
      ]
    },
    {
      "cell_type": "code",
      "source": [
        "\"\"\"\n",
        "Visualize Genetic Algorithm to find a maximum point in a function.\n",
        "\n",
        "\"\"\"\n",
        "import numpy as np\n",
        "import matplotlib.pyplot as plt\n",
        "\n",
        "DNA_SIZE = 20            # DNA length\n",
        "POP_SIZE = 100           # population size\n",
        "CROSS_RATE = 0.8         # mating probability (DNA crossover)\n",
        "MUTATION_RATE = 0.003    # mutation probability\n",
        "N_GENERATIONS = 100\n",
        "X_BOUND = [0, 12]         # x upper and lower bounds\n",
        "Y_BOUND = [0, 5]         # y upper and lower bounds\n",
        "\n",
        "# def F(X,Y): return (X**2 - 10 * np.cos(2 * np.pi * X)) + (Y**2 - 10 * np.cos(2 * np.pi * Y)) + 20\n",
        "def F(X, Y): return 0.0708*X**10 - 4.2226*X**9 + 108.3253 * X**8 - 1568.1012 * X**7 + 14152.6160*X**6 - 83204.5785*X**5 + 323592.4537*X**4 - 824935.2939*X**3 + 1312986.4743*X**2 - 1145000.3320*X**1 + 438499.9382\n",
        "    # to find the maximum of this function\n",
        "\n",
        "# find non-zero fitness for selection\n",
        "def get_fitness(F_values): return F_values + 1e-3 - np.min(F_values)\n",
        "\n",
        "# convert binary DNA for X to decimal and normalize it to a range(0, 5)\n",
        "def translateDNA_X(pop):\n",
        "    pop_X=pop[:, 0:10]\n",
        "    return pop_X.dot(2 ** np.arange(np.int(DNA_SIZE/2))[::-1]) / float(2**(DNA_SIZE/2)-1) * X_BOUND[1]\n",
        "\n",
        "# convert binary DNA for Y to decimal and normalize it to a range(0, 5)\n",
        "def translateDNA_Y(pop):\n",
        "    pop_Y=pop[:, 10:20]\n",
        "    return pop_Y.dot(2 ** np.arange(np.int(DNA_SIZE/2))[::-1]) / float(2**(DNA_SIZE/2)-1) * Y_BOUND[1]\n",
        "\n",
        "def select(pop, fitness):    # nature selection wrt pop's fitness\n",
        "    idx = np.random.choice(np.arange(POP_SIZE), size=POP_SIZE, replace=True,\n",
        "                           p=fitness/fitness.sum())\n",
        "    return pop[idx]\n",
        "\n",
        "def crossover(parent, pop):     # mating process (genes crossover)\n",
        "    if np.random.rand() < CROSS_RATE:\n",
        "        i_ = np.random.randint(0, POP_SIZE, size=1)                             # select another individual from pop\n",
        "        cross_points = np.random.randint(0, 2, size=DNA_SIZE).astype(np.bool)   # choose crossover points\n",
        "        parent[cross_points] = pop[i_, cross_points]                            # mating and produce one child\n",
        "    return parent\n",
        "\n",
        "def mutate(child):\n",
        "    for point in range(DNA_SIZE):\n",
        "        if np.random.rand() < MUTATION_RATE:\n",
        "            child[point] = 1 if child[point] == 0 else 0\n",
        "    return child\n",
        "\n",
        "\n",
        "#######################\n",
        "\n",
        "from matplotlib import cm\n",
        "from mpl_toolkits.mplot3d import Axes3D\n",
        "from matplotlib import pyplot\n",
        "\n",
        "pop = np.random.randint(2, size=(POP_SIZE, DNA_SIZE))\n",
        "\n",
        "plt.ion()       # Turn the interactive plotting mode on\n",
        "X = np.linspace(0, 5, 100)\n",
        "Y = np.linspace(0, 5, 100)\n",
        "X, Y = np.meshgrid(X, Y)\n",
        "\n",
        "Z = (X**2 - 10 * np.cos(2 * np.pi * X)) + (Y**2 - 10 * np.cos(2 * np.pi * Y)) + 20\n",
        "fig = pyplot.figure()\n",
        "ax = Axes3D(fig)\n",
        "ax.plot_surface(X, Y, Z, rstride=1, cstride=1,\n",
        "  cmap=cm.nipy_spectral, linewidth=0.08,\n",
        "  antialiased=True)\n",
        "#########################\n",
        "\n",
        "\n",
        "for i in range(N_GENERATIONS):\n",
        "    F_values = F(translateDNA_X(pop), translateDNA_Y(pop))    # compute function value by extracting DNA\n",
        "\n",
        "    sca = ax.scatter(translateDNA_X(pop), translateDNA_Y(pop), F_values, s=100, c='black'); plt.pause(0.1)\n",
        "    # Following if statement is to remove the points on plotted curve in previous generation\n",
        "    if i < (N_GENERATIONS - 1): sca.remove()\n",
        "\n",
        "\n",
        "    # GA part (evolution)\n",
        "    fitness = get_fitness(F_values)\n",
        "    print(\"Most fitted DNA: \", pop[np.argmax(fitness), :])\n",
        "    pop = select(pop, fitness)\n",
        "    pop_copy = pop.copy()\n",
        "    for parent in pop:\n",
        "        child = crossover(parent, pop)\n",
        "        child = mutate(child)\n",
        "        parent[:] = child       # parent is replaced by its child\n",
        "\n",
        "plt.ioff()  # Turn the interactive plotting mode off\n",
        "plt.show()\n",
        "\n",
        "#Calculate and display the optimal result\n",
        "pop_best_X_DNA = pop[np.argmax(fitness), 0:10]\n",
        "pop_best_X_real = pop_best_X_DNA.dot(2 ** np.arange(np.int(DNA_SIZE/2))[::-1]) / float(2**(DNA_SIZE/2)-1) * X_BOUND[1]\n",
        "\n",
        "pop_best_Y_DNA = pop[np.argmax(fitness), 10:20]\n",
        "pop_best_Y_real = pop_best_Y_DNA.dot(2 ** np.arange(np.int(DNA_SIZE/2))[::-1]) / float(2**(DNA_SIZE/2)-1) * X_BOUND[1]\n",
        "\n",
        "print(\"Best real X value: \", pop_best_X_real)\n",
        "print(\"Best real Y value: \", pop_best_Y_real)\n",
        "print(\"Maximal function value: \", F(pop_best_X_real, pop_best_Y_real))\n",
        "\n"
      ],
      "metadata": {
        "colab": {
          "base_uri": "https://localhost:8080/",
          "height": 1000
        },
        "id": "XXwAeGDbkc6h",
        "outputId": "ab7f8261-d528-4aa3-b070-87dacae015e6"
      },
      "execution_count": null,
      "outputs": [
        {
          "output_type": "stream",
          "name": "stderr",
          "text": [
            "/usr/local/lib/python3.7/dist-packages/ipykernel_launcher.py:26: DeprecationWarning: `np.int` is a deprecated alias for the builtin `int`. To silence this warning, use `int` by itself. Doing this will not modify any behavior and is safe. When replacing `np.int`, you may wish to use e.g. `np.int64` or `np.int32` to specify the precision. If you wish to review your current use, check the release note link for additional information.\n",
            "Deprecated in NumPy 1.20; for more details and guidance: https://numpy.org/devdocs/release/1.20.0-notes.html#deprecations\n",
            "/usr/local/lib/python3.7/dist-packages/ipykernel_launcher.py:31: DeprecationWarning: `np.int` is a deprecated alias for the builtin `int`. To silence this warning, use `int` by itself. Doing this will not modify any behavior and is safe. When replacing `np.int`, you may wish to use e.g. `np.int64` or `np.int32` to specify the precision. If you wish to review your current use, check the release note link for additional information.\n",
            "Deprecated in NumPy 1.20; for more details and guidance: https://numpy.org/devdocs/release/1.20.0-notes.html#deprecations\n"
          ]
        },
        {
          "output_type": "display_data",
          "data": {
            "text/plain": [
              "<Figure size 432x288 with 1 Axes>"
            ],
            "image/png": "[encoded data removed]"
          },
          "metadata": {
            "needs_background": "light"
          }
        },
        {
          "output_type": "stream",
          "name": "stdout",
          "text": [
            "Most fitted DNA:  [1 1 1 1 1 1 1 0 1 0 0 0 1 0 1 0 0 1 0 1]\n",
            "Most fitted DNA:  [1 1 1 1 1 1 1 0 1 1 0 0 0 0 1 0 0 1 0 1]\n"
          ]
        },
        {
          "output_type": "stream",
          "name": "stderr",
          "text": [
            "/usr/local/lib/python3.7/dist-packages/ipykernel_launcher.py:41: DeprecationWarning: `np.bool` is a deprecated alias for the builtin `bool`. To silence this warning, use `bool` by itself. Doing this will not modify any behavior and is safe. If you specifically wanted the numpy scalar type, use `np.bool_` here.\n",
            "Deprecated in NumPy 1.20; for more details and guidance: https://numpy.org/devdocs/release/1.20.0-notes.html#deprecations\n"
          ]
        },
        {
          "output_type": "stream",
          "name": "stdout",
          "text": [
            "Most fitted DNA:  [1 1 1 1 1 1 1 1 1 1 0 0 0 1 1 1 0 0 1 1]\n",
            "Most fitted DNA:  [1 1 1 1 1 1 1 1 1 1 0 1 0 0 0 1 0 0 1 0]\n",
            "Most fitted DNA:  [1 1 1 1 1 1 1 1 1 1 0 0 0 1 1 0 0 1 1 0]\n",
            "Most fitted DNA:  [1 1 1 1 1 1 1 1 1 1 1 0 0 1 0 0 1 0 1 0]\n",
            "Most fitted DNA:  [1 1 1 1 1 1 1 1 1 1 1 0 1 1 0 0 1 0 1 1]\n",
            "Most fitted DNA:  [1 1 1 1 1 1 1 1 1 1 1 0 1 0 1 1 1 1 1 0]\n",
            "Most fitted DNA:  [1 1 1 1 1 1 1 1 1 1 0 0 1 1 0 1 0 1 1 1]\n",
            "Most fitted DNA:  [1 1 1 1 1 1 1 1 1 1 1 0 1 1 0 1 1 0 1 1]\n",
            "Most fitted DNA:  [1 1 1 1 1 1 1 1 1 1 1 0 1 0 0 0 0 0 1 1]\n",
            "Most fitted DNA:  [1 1 1 1 1 1 1 1 1 1 1 0 1 1 0 0 0 0 0 0]\n",
            "Most fitted DNA:  [1 1 1 1 1 1 1 1 1 1 0 1 1 1 0 1 1 0 1 0]\n",
            "Most fitted DNA:  [1 1 1 1 1 1 1 1 1 1 1 0 1 1 1 1 1 0 1 0]\n",
            "Most fitted DNA:  [1 1 1 1 1 1 1 1 1 1 0 0 1 1 0 1 0 1 0 0]\n",
            "Most fitted DNA:  [1 1 1 1 1 1 1 1 1 1 0 0 1 1 1 0 1 1 1 0]\n",
            "Most fitted DNA:  [1 1 1 1 1 1 1 1 1 1 1 0 1 1 0 0 1 1 0 0]\n",
            "Most fitted DNA:  [1 1 1 1 1 1 1 1 1 1 1 0 1 1 0 0 1 1 0 0]\n",
            "Most fitted DNA:  [1 1 1 1 1 1 1 1 1 1 1 0 1 1 1 0 0 1 0 1]\n",
            "Most fitted DNA:  [1 1 1 1 1 1 1 1 1 1 0 0 0 1 0 1 0 1 1 0]\n",
            "Most fitted DNA:  [1 1 1 1 1 1 1 1 1 1 0 0 1 1 0 0 0 1 1 1]\n",
            "Most fitted DNA:  [1 1 1 1 1 1 1 1 1 1 0 0 1 1 0 0 0 1 0 1]\n",
            "Most fitted DNA:  [1 1 1 1 1 1 1 1 1 1 1 0 1 1 0 0 0 1 1 0]\n",
            "Most fitted DNA:  [1 1 1 1 1 1 1 1 1 1 0 0 1 1 1 0 0 1 1 0]\n",
            "Most fitted DNA:  [1 1 1 1 1 1 1 1 1 1 1 0 0 1 0 0 0 1 0 1]\n",
            "Most fitted DNA:  [1 1 1 1 1 1 1 1 1 1 1 0 1 1 0 1 0 1 1 0]\n",
            "Most fitted DNA:  [1 1 1 1 1 1 1 1 1 1 1 0 1 1 1 1 1 1 0 0]\n",
            "Most fitted DNA:  [1 1 1 1 1 1 1 1 1 1 1 0 1 1 0 1 0 1 1 1]\n",
            "Most fitted DNA:  [1 1 1 1 1 1 1 1 1 1 1 0 1 1 1 0 0 1 1 1]\n",
            "Most fitted DNA:  [1 1 1 1 1 1 1 1 1 1 1 0 1 1 1 1 0 1 0 1]\n",
            "Most fitted DNA:  [1 1 1 1 1 1 1 1 1 1 1 0 1 1 1 1 0 1 0 0]\n",
            "Most fitted DNA:  [1 1 1 1 1 1 1 1 1 1 0 0 1 1 1 1 1 1 1 0]\n",
            "Most fitted DNA:  [1 1 1 1 1 1 1 1 1 1 1 0 1 1 1 1 1 1 0 1]\n",
            "Most fitted DNA:  [1 1 1 1 1 1 1 1 1 1 1 0 1 1 0 1 1 1 0 0]\n",
            "Most fitted DNA:  [1 1 1 1 1 1 1 1 1 1 1 0 1 1 1 1 0 1 0 0]\n",
            "Most fitted DNA:  [1 1 1 1 1 1 1 1 1 1 1 0 1 1 1 0 0 1 1 0]\n",
            "Most fitted DNA:  [1 1 1 1 1 1 1 1 1 1 1 0 1 1 1 1 0 1 1 1]\n",
            "Most fitted DNA:  [1 1 1 1 1 1 1 1 1 1 1 0 1 0 1 1 0 1 0 0]\n",
            "Most fitted DNA:  [1 1 1 1 1 1 1 1 1 1 1 0 1 1 1 0 0 1 0 1]\n",
            "Most fitted DNA:  [1 1 1 1 1 1 1 1 1 1 1 0 0 1 1 0 1 1 1 1]\n",
            "Most fitted DNA:  [1 1 1 1 1 1 1 1 1 1 0 0 1 1 1 1 1 1 1 1]\n",
            "Most fitted DNA:  [1 1 1 1 1 1 1 1 1 1 0 0 1 1 1 1 0 1 0 1]\n",
            "Most fitted DNA:  [1 1 1 1 1 1 1 1 1 1 1 0 1 1 1 0 0 1 0 1]\n",
            "Most fitted DNA:  [1 1 1 1 1 1 1 1 1 1 1 0 0 1 1 1 0 1 1 0]\n",
            "Most fitted DNA:  [1 1 1 1 1 1 1 1 1 1 0 0 0 0 0 1 0 1 0 1]\n",
            "Most fitted DNA:  [1 1 1 1 1 1 1 1 1 1 0 0 0 0 1 1 0 1 0 1]\n",
            "Most fitted DNA:  [1 1 1 1 1 1 1 1 1 1 1 0 1 1 0 0 0 1 0 0]\n",
            "Most fitted DNA:  [1 1 1 1 1 1 1 1 1 1 1 0 1 1 0 1 1 1 0 1]\n",
            "Most fitted DNA:  [1 1 1 1 1 1 1 1 1 1 0 0 1 1 1 1 0 1 0 1]\n",
            "Most fitted DNA:  [1 1 1 1 1 1 1 1 1 1 1 0 1 1 1 0 1 1 0 0]\n",
            "Most fitted DNA:  [1 1 1 1 1 1 1 1 1 1 0 0 1 1 0 1 0 1 0 1]\n",
            "Most fitted DNA:  [1 1 1 1 1 1 1 1 1 1 1 0 1 0 1 0 0 1 0 0]\n",
            "Most fitted DNA:  [1 1 1 1 1 1 1 1 1 1 1 0 1 0 0 0 0 1 0 0]\n",
            "Most fitted DNA:  [1 1 1 1 1 1 1 1 1 1 0 0 1 0 0 0 0 1 0 0]\n",
            "Most fitted DNA:  [1 1 1 1 1 1 1 1 1 1 0 0 0 1 0 1 0 1 0 0]\n",
            "Most fitted DNA:  [1 1 1 1 1 1 1 1 1 1 0 0 1 1 1 1 0 1 0 0]\n",
            "Most fitted DNA:  [1 1 1 1 1 1 1 1 1 1 0 0 0 1 0 1 0 1 0 0]\n",
            "Most fitted DNA:  [1 1 1 1 1 1 1 1 1 1 0 0 1 1 0 0 0 1 0 0]\n",
            "Most fitted DNA:  [1 1 1 1 1 1 1 1 1 1 0 0 0 1 0 0 0 1 0 0]\n",
            "Most fitted DNA:  [1 1 1 1 1 1 1 1 1 1 1 0 1 0 0 0 0 1 0 0]\n",
            "Most fitted DNA:  [1 1 1 1 1 1 1 1 1 1 0 0 1 1 0 0 1 1 0 0]\n",
            "Most fitted DNA:  [1 1 1 1 1 1 1 1 1 1 0 1 0 1 0 0 0 1 0 0]\n",
            "Most fitted DNA:  [1 1 1 1 1 1 1 1 1 1 0 0 1 1 0 0 0 1 0 1]\n",
            "Most fitted DNA:  [1 1 1 1 1 1 1 1 1 1 0 0 1 0 1 1 0 1 0 0]\n",
            "Most fitted DNA:  [1 1 1 1 1 1 1 1 1 1 0 1 0 0 0 1 0 1 0 0]\n",
            "Most fitted DNA:  [1 1 1 1 1 1 1 1 1 1 0 0 1 0 1 0 0 1 0 0]\n",
            "Most fitted DNA:  [1 1 1 1 1 1 1 1 1 1 0 0 1 0 0 0 0 1 0 0]\n",
            "Most fitted DNA:  [1 1 1 1 1 1 1 1 1 1 0 0 1 1 0 1 1 1 0 0]\n",
            "Most fitted DNA:  [1 1 1 1 1 1 1 1 1 1 1 0 0 0 0 0 0 1 0 0]\n",
            "Most fitted DNA:  [1 1 1 1 1 1 1 1 1 1 0 0 0 1 1 0 0 1 0 0]\n",
            "Most fitted DNA:  [1 1 1 1 1 1 1 1 1 1 1 1 1 0 1 0 0 1 0 0]\n",
            "Most fitted DNA:  [1 1 1 1 1 1 1 1 1 1 1 1 1 1 0 0 0 1 0 0]\n",
            "Most fitted DNA:  [1 1 1 1 1 1 1 1 1 1 0 0 0 0 0 1 0 1 0 0]\n",
            "Most fitted DNA:  [1 1 1 1 1 1 1 1 1 1 0 0 1 0 1 0 0 1 0 0]\n",
            "Most fitted DNA:  [1 1 1 1 1 1 1 1 1 1 1 1 1 1 0 0 0 1 0 0]\n",
            "Most fitted DNA:  [1 1 1 1 1 1 1 1 1 1 1 0 0 1 0 0 0 1 0 0]\n",
            "Most fitted DNA:  [1 1 1 1 1 1 1 1 1 1 0 0 1 1 0 0 0 1 0 0]\n",
            "Most fitted DNA:  [1 1 1 1 1 1 1 1 1 1 0 0 0 0 1 0 0 1 0 0]\n",
            "Most fitted DNA:  [1 1 1 1 1 1 1 1 1 1 0 0 0 1 1 0 0 1 0 0]\n",
            "Most fitted DNA:  [1 1 1 1 1 1 1 1 1 1 0 0 0 1 0 0 0 1 0 0]\n",
            "Most fitted DNA:  [1 1 1 1 1 1 1 1 1 1 0 0 1 0 1 0 0 1 0 0]\n",
            "Most fitted DNA:  [1 1 1 1 1 1 1 1 1 1 0 0 0 1 1 0 0 1 0 0]\n",
            "Most fitted DNA:  [1 1 1 1 1 1 1 1 1 1 0 0 1 1 0 0 0 1 0 0]\n",
            "Most fitted DNA:  [1 1 1 1 1 1 1 1 1 1 0 0 1 1 1 0 0 1 0 0]\n",
            "Most fitted DNA:  [1 1 1 1 1 1 1 1 1 1 0 0 1 1 1 0 0 1 0 0]\n",
            "Most fitted DNA:  [1 1 1 1 1 1 1 1 1 1 1 0 1 1 1 0 0 1 0 0]\n",
            "Most fitted DNA:  [1 1 1 1 1 1 1 1 1 1 1 0 1 1 1 0 0 1 0 0]\n",
            "Most fitted DNA:  [1 1 1 1 1 1 1 1 1 1 1 0 0 1 0 0 0 1 0 0]\n",
            "Most fitted DNA:  [1 1 1 1 1 1 1 1 1 1 0 0 1 0 1 0 0 1 0 0]\n",
            "Most fitted DNA:  [1 1 1 1 1 1 1 1 1 1 1 0 1 1 0 0 0 1 0 0]\n",
            "Most fitted DNA:  [1 1 1 1 1 1 1 1 1 1 0 0 0 1 0 0 0 1 0 0]\n",
            "Most fitted DNA:  [1 1 1 1 1 1 1 1 1 1 0 0 0 1 1 0 0 1 1 0]\n",
            "Most fitted DNA:  [1 1 1 1 1 1 1 1 1 1 1 0 1 1 0 0 0 0 1 0]\n",
            "Most fitted DNA:  [1 1 1 1 1 1 1 1 1 1 0 0 1 1 1 0 0 1 0 0]\n",
            "Most fitted DNA:  [1 1 1 1 1 1 1 1 1 1 0 0 1 0 1 0 0 1 1 0]\n",
            "Most fitted DNA:  [1 1 1 1 1 1 1 1 1 1 1 0 1 0 0 0 0 1 0 0]\n",
            "Most fitted DNA:  [1 1 1 1 1 1 1 1 1 1 1 0 1 0 1 0 0 1 0 0]\n",
            "Most fitted DNA:  [1 1 1 1 1 1 1 1 1 1 0 0 1 0 0 0 0 0 0 0]\n",
            "Most fitted DNA:  [1 1 1 1 1 1 1 1 1 1 1 0 1 1 0 0 0 1 1 0]\n",
            "Most fitted DNA:  [1 1 1 1 1 1 1 1 1 1 1 0 1 0 0 0 0 1 0 0]\n",
            "Best real X value:  12.0\n",
            "Best real Y value:  0.16422287390029325\n",
            "Maximal function value:  1872700.592596681\n"
          ]
        },
        {
          "output_type": "stream",
          "name": "stderr",
          "text": [
            "/usr/local/lib/python3.7/dist-packages/ipykernel_launcher.py:97: DeprecationWarning: `np.int` is a deprecated alias for the builtin `int`. To silence this warning, use `int` by itself. Doing this will not modify any behavior and is safe. When replacing `np.int`, you may wish to use e.g. `np.int64` or `np.int32` to specify the precision. If you wish to review your current use, check the release note link for additional information.\n",
            "Deprecated in NumPy 1.20; for more details and guidance: https://numpy.org/devdocs/release/1.20.0-notes.html#deprecations\n",
            "/usr/local/lib/python3.7/dist-packages/ipykernel_launcher.py:100: DeprecationWarning: `np.int` is a deprecated alias for the builtin `int`. To silence this warning, use `int` by itself. Doing this will not modify any behavior and is safe. When replacing `np.int`, you may wish to use e.g. `np.int64` or `np.int32` to specify the precision. If you wish to review your current use, check the release note link for additional information.\n",
            "Deprecated in NumPy 1.20; for more details and guidance: https://numpy.org/devdocs/release/1.20.0-notes.html#deprecations\n"
          ]
        }
      ]
    },
    {
      "cell_type": "code",
      "source": [
        "# import numpy as np\n",
        "# from matplotlib import pyplot as plt\n",
        "\n",
        "# def PolyCoefficients(x, coeffs):\n",
        "#     \"\"\" Returns a polynomial for ``x`` values for the ``coeffs`` provided.\n",
        "\n",
        "#     The coefficients must be in ascending order (``x**0`` to ``x**o``).\n",
        "#     \"\"\"\n",
        "#     o = len(coeffs)\n",
        "#     print(f'# This is a polynomial of order ',(o-1))\n",
        "#     y = 0\n",
        "#     for i in range(o):\n",
        "#         y += coeffs[i]*x**i\n",
        "#         # print(i)\n",
        "#         # print(coeffs[i])\n",
        "#         # print(y)\n",
        "#     return y\n",
        "\n",
        "# x = np.linspace(1, 12, 100)\n",
        "# coeffs = [- 10292.15, 60006.05, - 18424.32, 2104.53, - 79.86, 0.04]\n",
        "# # coeffs.reverse()\n",
        "# plt.plot(x, PolyCoefficients(x, coeffs))\n",
        "# plt.show()"
      ],
      "metadata": {
        "colab": {
          "base_uri": "https://localhost:8080/",
          "height": 282
        },
        "id": "9uYSsCCSonbT",
        "outputId": "8ba820be-cde8-47d4-f4f8-3ad5ae6c8100"
      },
      "execution_count": null,
      "outputs": [
        {
          "output_type": "stream",
          "name": "stdout",
          "text": [
            "# This is a polynomial of order  5\n"
          ]
        },
        {
          "output_type": "display_data",
          "data": {
            "text/plain": [
              "<Figure size 432x288 with 1 Axes>"
            ],
            "image/png": "[encoded data removed]"
          },
          "metadata": {
            "needs_background": "light"
          }
        }
      ]
    },
    {
      "cell_type": "code",
      "source": [
        "import os\n",
        "import pandas as pd\n",
        "import numpy as np\n",
        "from sklearn.preprocessing import MinMaxScaler\n",
        "%matplotlib inline\n",
        "\n",
        "dataset_train = pd.read_csv('/content/drive/MyDrive/AI project/Data/Daily Data/Daily_Index.csv')\n",
        "dataset_train\n"
      ],
      "metadata": {
        "colab": {
          "base_uri": "https://localhost:8080/",
          "height": 419
        },
        "id": "bOX17tF61QFd",
        "outputId": "0d4a8059-1406-41b8-f5ab-85f9d7fcf2d8"
      },
      "execution_count": null,
      "outputs": [
        {
          "output_type": "execute_result",
          "data": {
            "text/plain": [
              "          Date  Dji_Price  S&P_500_Price  Nasdaq_Price\n",
              "0    04-Jan-21   30223.89        3700.65      12698.45\n",
              "1    05-Jan-21   30391.60        3726.86      12818.96\n",
              "2    06-Jan-21   30829.40        3748.14      12740.79\n",
              "3    07-Jan-21   31041.13        3803.79      13067.48\n",
              "4    08-Jan-21   31097.97        3824.68      13201.97\n",
              "..         ...        ...            ...           ...\n",
              "247  27-Dec-21   36302.38        4791.19      15871.26\n",
              "248  28-Dec-21   36398.21        4786.36      15781.72\n",
              "249  29-Dec-21   36488.63        4793.06      15766.22\n",
              "250  30-Dec-21   36398.08        4778.73      15741.56\n",
              "251  31-Dec-21   36338.30        4766.18      15644.97\n",
              "\n",
              "[252 rows x 4 columns]"
            ],
            "text/html": [
              "\n",
              "  <div id=\"df-acdcda45-e01b-4149-b4b2-edc5a1bc1f37\">\n",
              "    <div class=\"colab-df-container\">\n",
              "      <div>\n",
              "<style scoped>\n",
              "    .dataframe tbody tr th:only-of-type {\n",
              "        vertical-align: middle;\n",
              "    }\n",
              "\n",
              "    .dataframe tbody tr th {\n",
              "        vertical-align: top;\n",
              "    }\n",
              "\n",
              "    .dataframe thead th {\n",
              "        text-align: right;\n",
              "    }\n",
              "</style>\n",
              "<table border=\"1\" class=\"dataframe\">\n",
              "  <thead>\n",
              "    <tr style=\"text-align: right;\">\n",
              "      <th></th>\n",
              "      <th>Date</th>\n",
              "      <th>Dji_Price</th>\n",
              "      <th>S&amp;P_500_Price</th>\n",
              "      <th>Nasdaq_Price</th>\n",
              "    </tr>\n",
              "  </thead>\n",
              "  <tbody>\n",
              "    <tr>\n",
              "      <th>0</th>\n",
              "      <td>04-Jan-21</td>\n",
              "      <td>30223.89</td>\n",
              "      <td>3700.65</td>\n",
              "      <td>12698.45</td>\n",
              "    </tr>\n",
              "    <tr>\n",
              "      <th>1</th>\n",
              "      <td>05-Jan-21</td>\n",
              "      <td>30391.60</td>\n",
              "      <td>3726.86</td>\n",
              "      <td>12818.96</td>\n",
              "    </tr>\n",
              "    <tr>\n",
              "      <th>2</th>\n",
              "      <td>06-Jan-21</td>\n",
              "      <td>30829.40</td>\n",
              "      <td>3748.14</td>\n",
              "      <td>12740.79</td>\n",
              "    </tr>\n",
              "    <tr>\n",
              "      <th>3</th>\n",
              "      <td>07-Jan-21</td>\n",
              "      <td>31041.13</td>\n",
              "      <td>3803.79</td>\n",
              "      <td>13067.48</td>\n",
              "    </tr>\n",
              "    <tr>\n",
              "      <th>4</th>\n",
              "      <td>08-Jan-21</td>\n",
              "      <td>31097.97</td>\n",
              "      <td>3824.68</td>\n",
              "      <td>13201.97</td>\n",
              "    </tr>\n",
              "    <tr>\n",
              "      <th>...</th>\n",
              "      <td>...</td>\n",
              "      <td>...</td>\n",
              "      <td>...</td>\n",
              "      <td>...</td>\n",
              "    </tr>\n",
              "    <tr>\n",
              "      <th>247</th>\n",
              "      <td>27-Dec-21</td>\n",
              "      <td>36302.38</td>\n",
              "      <td>4791.19</td>\n",
              "      <td>15871.26</td>\n",
              "    </tr>\n",
              "    <tr>\n",
              "      <th>248</th>\n",
              "      <td>28-Dec-21</td>\n",
              "      <td>36398.21</td>\n",
              "      <td>4786.36</td>\n",
              "      <td>15781.72</td>\n",
              "    </tr>\n",
              "    <tr>\n",
              "      <th>249</th>\n",
              "      <td>29-Dec-21</td>\n",
              "      <td>36488.63</td>\n",
              "      <td>4793.06</td>\n",
              "      <td>15766.22</td>\n",
              "    </tr>\n",
              "    <tr>\n",
              "      <th>250</th>\n",
              "      <td>30-Dec-21</td>\n",
              "      <td>36398.08</td>\n",
              "      <td>4778.73</td>\n",
              "      <td>15741.56</td>\n",
              "    </tr>\n",
              "    <tr>\n",
              "      <th>251</th>\n",
              "      <td>31-Dec-21</td>\n",
              "      <td>36338.30</td>\n",
              "      <td>4766.18</td>\n",
              "      <td>15644.97</td>\n",
              "    </tr>\n",
              "  </tbody>\n",
              "</table>\n",
              "<p>252 rows × 4 columns</p>\n",
              "</div>\n",
              "      <button class=\"colab-df-convert\" onclick=\"convertToInteractive('df-acdcda45-e01b-4149-b4b2-edc5a1bc1f37')\"\n",
              "              title=\"Convert this dataframe to an interactive table.\"\n",
              "              style=\"display:none;\">\n",
              "        \n",
              "  <svg xmlns=\"http://www.w3.org/2000/svg\" height=\"24px\"viewBox=\"0 0 24 24\"\n",
              "       width=\"24px\">\n",
              "    <path d=\"M0 0h24v24H0V0z\" fill=\"none\"/>\n",
              "    <path d=\"M18.56 5.44l.94 2.06.94-2.06 2.06-.94-2.06-.94-.94-2.06-.94 2.06-2.06.94zm-11 1L8.5 8.5l.94-2.06 2.06-.94-2.06-.94L8.5 2.5l-.94 2.06-2.06.94zm10 10l.94 2.06.94-2.06 2.06-.94-2.06-.94-.94-2.06-.94 2.06-2.06.94z\"/><path d=\"M17.41 7.96l-1.37-1.37c-.4-.4-.92-.59-1.43-.59-.52 0-1.04.2-1.43.59L10.3 9.45l-7.72 7.72c-.78.78-.78 2.05 0 2.83L4 21.41c.39.39.9.59 1.41.59.51 0 1.02-.2 1.41-.59l7.78-7.78 2.81-2.81c.8-.78.8-2.07 0-2.86zM5.41 20L4 18.59l7.72-7.72 1.47 1.35L5.41 20z\"/>\n",
              "  </svg>\n",
              "      </button>\n",
              "      \n",
              "  <style>\n",
              "    .colab-df-container {\n",
              "      display:flex;\n",
              "      flex-wrap:wrap;\n",
              "      gap: 12px;\n",
              "    }\n",
              "\n",
              "    .colab-df-convert {\n",
              "      background-color: #E8F0FE;\n",
              "      border: none;\n",
              "      border-radius: 50%;\n",
              "      cursor: pointer;\n",
              "      display: none;\n",
              "      fill: #1967D2;\n",
              "      height: 32px;\n",
              "      padding: 0 0 0 0;\n",
              "      width: 32px;\n",
              "    }\n",
              "\n",
              "    .colab-df-convert:hover {\n",
              "      background-color: #E2EBFA;\n",
              "      box-shadow: 0px 1px 2px rgba(60, 64, 67, 0.3), 0px 1px 3px 1px rgba(60, 64, 67, 0.15);\n",
              "      fill: #174EA6;\n",
              "    }\n",
              "\n",
              "    [theme=dark] .colab-df-convert {\n",
              "      background-color: #3B4455;\n",
              "      fill: #D2E3FC;\n",
              "    }\n",
              "\n",
              "    [theme=dark] .colab-df-convert:hover {\n",
              "      background-color: #434B5C;\n",
              "      box-shadow: 0px 1px 3px 1px rgba(0, 0, 0, 0.15);\n",
              "      filter: drop-shadow(0px 1px 2px rgba(0, 0, 0, 0.3));\n",
              "      fill: #FFFFFF;\n",
              "    }\n",
              "  </style>\n",
              "\n",
              "      <script>\n",
              "        const buttonEl =\n",
              "          document.querySelector('#df-acdcda45-e01b-4149-b4b2-edc5a1bc1f37 button.colab-df-convert');\n",
              "        buttonEl.style.display =\n",
              "          google.colab.kernel.accessAllowed ? 'block' : 'none';\n",
              "\n",
              "        async function convertToInteractive(key) {\n",
              "          const element = document.querySelector('#df-acdcda45-e01b-4149-b4b2-edc5a1bc1f37');\n",
              "          const dataTable =\n",
              "            await google.colab.kernel.invokeFunction('convertToInteractive',\n",
              "                                                     [key], {});\n",
              "          if (!dataTable) return;\n",
              "\n",
              "          const docLinkHtml = 'Like what you see? Visit the ' +\n",
              "            '<a target=\"_blank\" href=https://colab.research.google.com/notebooks/data_table.ipynb>data table notebook</a>'\n",
              "            + ' to learn more about interactive tables.';\n",
              "          element.innerHTML = '';\n",
              "          dataTable['output_type'] = 'display_data';\n",
              "          await google.colab.output.renderOutput(dataTable, element);\n",
              "          const docLink = document.createElement('div');\n",
              "          docLink.innerHTML = docLinkHtml;\n",
              "          element.appendChild(docLink);\n",
              "        }\n",
              "      </script>\n",
              "    </div>\n",
              "  </div>\n",
              "  "
            ]
          },
          "metadata": {},
          "execution_count": 2
        }
      ]
    },
    {
      "cell_type": "code",
      "source": [
        "# get the training set from all rows and column of Dow Jones\n",
        "training_set = dataset_train.iloc[:,1:2].values #use [:, 2:3] for S&P_500 and [:, 3:4] for Nasdaq_Price\n",
        "print(training_set)\n",
        "# print(training_set.shape)\n",
        "scaler = MinMaxScaler(feature_range=(0,1))\n",
        "scaled_training_set = scaler.fit_transform(training_set)\n",
        "# scaled_training_set"
      ],
      "metadata": {
        "colab": {
          "base_uri": "https://localhost:8080/"
        },
        "id": "csbrz8FYkoUh",
        "outputId": "77a7be7f-ee66-4205-a69e-642f2f2a08c5"
      },
      "execution_count": null,
      "outputs": [
        {
          "output_type": "stream",
          "name": "stdout",
          "text": [
            "(252, 1)\n"
          ]
        },
        {
          "output_type": "execute_result",
          "data": {
            "text/plain": [
              "(252, 1)"
            ]
          },
          "metadata": {},
          "execution_count": 81
        }
      ]
    },
    {
      "cell_type": "code",
      "source": [
        "x_train = []\n",
        "y_train = []\n",
        "for i in range(12,len(scaled_training_set)):\n",
        "  # print(scaled_training_set[i-12:i,0])\n",
        "  x_train.append(scaled_training_set[i-12:i,0])\n",
        "  y_train.append(scaled_training_set[i,0])\n",
        "x_train, y_train = np.array(x_train), np.array(y_train)\n",
        "print(x_train.shape)\n",
        "print(y_train.shape)\n",
        "x_train = np.reshape(x_train,(x_train.shape[0], x_train.shape[1], 1))\n",
        "x_train.shape"
      ],
      "metadata": {
        "colab": {
          "base_uri": "https://localhost:8080/"
        },
        "id": "tLKS04lcm__Q",
        "outputId": "7654eb67-3a3b-4f28-a5ad-bd6afff562c9"
      },
      "execution_count": null,
      "outputs": [
        {
          "output_type": "stream",
          "name": "stdout",
          "text": [
            "(240, 12)\n",
            "(240,)\n"
          ]
        },
        {
          "output_type": "execute_result",
          "data": {
            "text/plain": [
              "(240, 12, 1)"
            ]
          },
          "metadata": {},
          "execution_count": 72
        }
      ]
    },
    {
      "cell_type": "code",
      "source": [
        "from tensorflow import keras\n",
        "# model = keras.Sequential([\n",
        "#                           # keras.layers.LSTM(units = 50, return_sequences = True, input_shape = (x_train.shape[1],1)),\n",
        "#                           # keras.layers.Dropout(0.2),\n",
        "#                           # keras.layers.Dense(units=1),\n",
        "#                           # keras.layers.LSTM(units = 50, return_sequences = True, input_shape = (x_train.shape[1],1)),\n",
        "#                           # keras.layers.Dropout(0.2),\n",
        "#                           # keras.layers.Dense(units=1),\n",
        "#                           keras.layers.LSTM(units = 50, return_sequences = True, input_shape = (x_train.shape[1],1)),\n",
        "#                           keras.layers.Dropout(0.2),\n",
        "#                           keras.layers.Dense(units=1)\n",
        "# ])\n",
        "\n",
        "\n",
        "model = keras.Sequential()\n",
        "model.add(keras.layers.LSTM(units = 50, return_sequences = True,input_shape = (x_train.shape[1],1) ))\n",
        "model.add(keras.layers.Dropout(0.2))\n",
        "\n",
        "model.add(keras.layers.Dense(units=1))\n",
        "\n",
        "model.compile(optimizer='adam', loss='mean_squared_error')\n",
        "model.fit(x_train, y_train, epochs=50, batch_size=32)"
      ],
      "metadata": {
        "colab": {
          "base_uri": "https://localhost:8080/"
        },
        "id": "KkDiXsvrnG-L",
        "outputId": "e9ecb0fa-c89c-4927-e9aa-83a8e59e908d"
      },
      "execution_count": null,
      "outputs": [
        {
          "output_type": "stream",
          "name": "stdout",
          "text": [
            "Epoch 1/50\n",
            "8/8 [==============================] - 3s 11ms/step - loss: 0.3924\n",
            "Epoch 2/50\n",
            "8/8 [==============================] - 0s 11ms/step - loss: 0.2180\n",
            "Epoch 3/50\n",
            "8/8 [==============================] - 0s 12ms/step - loss: 0.1616\n",
            "Epoch 4/50\n",
            "8/8 [==============================] - 0s 11ms/step - loss: 0.1456\n",
            "Epoch 5/50\n",
            "8/8 [==============================] - 0s 10ms/step - loss: 0.1309\n",
            "Epoch 6/50\n",
            "8/8 [==============================] - 0s 11ms/step - loss: 0.1218\n",
            "Epoch 7/50\n",
            "8/8 [==============================] - 0s 10ms/step - loss: 0.1139\n",
            "Epoch 8/50\n",
            "8/8 [==============================] - 0s 10ms/step - loss: 0.1069\n",
            "Epoch 9/50\n",
            "8/8 [==============================] - 0s 10ms/step - loss: 0.1005\n",
            "Epoch 10/50\n",
            "8/8 [==============================] - 0s 10ms/step - loss: 0.0967\n",
            "Epoch 11/50\n",
            "8/8 [==============================] - 0s 10ms/step - loss: 0.0927\n",
            "Epoch 12/50\n",
            "8/8 [==============================] - 0s 11ms/step - loss: 0.0892\n",
            "Epoch 13/50\n",
            "8/8 [==============================] - 0s 12ms/step - loss: 0.0865\n",
            "Epoch 14/50\n",
            "8/8 [==============================] - 0s 11ms/step - loss: 0.0826\n",
            "Epoch 15/50\n",
            "8/8 [==============================] - 0s 10ms/step - loss: 0.0798\n",
            "Epoch 16/50\n",
            "8/8 [==============================] - 0s 13ms/step - loss: 0.0779\n",
            "Epoch 17/50\n",
            "8/8 [==============================] - 0s 10ms/step - loss: 0.0750\n",
            "Epoch 18/50\n",
            "8/8 [==============================] - 0s 10ms/step - loss: 0.0744\n",
            "Epoch 19/50\n",
            "8/8 [==============================] - 0s 11ms/step - loss: 0.0734\n",
            "Epoch 20/50\n",
            "8/8 [==============================] - 0s 10ms/step - loss: 0.0715\n",
            "Epoch 21/50\n",
            "8/8 [==============================] - 0s 10ms/step - loss: 0.0694\n",
            "Epoch 22/50\n",
            "8/8 [==============================] - 0s 11ms/step - loss: 0.0693\n",
            "Epoch 23/50\n",
            "8/8 [==============================] - 0s 10ms/step - loss: 0.0680\n",
            "Epoch 24/50\n",
            "8/8 [==============================] - 0s 12ms/step - loss: 0.0667\n",
            "Epoch 25/50\n",
            "8/8 [==============================] - 0s 11ms/step - loss: 0.0658\n",
            "Epoch 26/50\n",
            "8/8 [==============================] - 0s 10ms/step - loss: 0.0657\n",
            "Epoch 27/50\n",
            "8/8 [==============================] - 0s 11ms/step - loss: 0.0649\n",
            "Epoch 28/50\n",
            "8/8 [==============================] - 0s 10ms/step - loss: 0.0648\n",
            "Epoch 29/50\n",
            "8/8 [==============================] - 0s 10ms/step - loss: 0.0642\n",
            "Epoch 30/50\n",
            "8/8 [==============================] - 0s 10ms/step - loss: 0.0636\n",
            "Epoch 31/50\n",
            "8/8 [==============================] - 0s 11ms/step - loss: 0.0629\n",
            "Epoch 32/50\n",
            "8/8 [==============================] - 0s 11ms/step - loss: 0.0628\n",
            "Epoch 33/50\n",
            "8/8 [==============================] - 0s 11ms/step - loss: 0.0623\n",
            "Epoch 34/50\n",
            "8/8 [==============================] - 0s 11ms/step - loss: 0.0617\n",
            "Epoch 35/50\n",
            "8/8 [==============================] - 0s 12ms/step - loss: 0.0616\n",
            "Epoch 36/50\n",
            "8/8 [==============================] - 0s 10ms/step - loss: 0.0611\n",
            "Epoch 37/50\n",
            "8/8 [==============================] - 0s 10ms/step - loss: 0.0604\n",
            "Epoch 38/50\n",
            "8/8 [==============================] - 0s 10ms/step - loss: 0.0603\n",
            "Epoch 39/50\n",
            "8/8 [==============================] - 0s 10ms/step - loss: 0.0602\n",
            "Epoch 40/50\n",
            "8/8 [==============================] - 0s 10ms/step - loss: 0.0598\n",
            "Epoch 41/50\n",
            "8/8 [==============================] - 0s 12ms/step - loss: 0.0598\n",
            "Epoch 42/50\n",
            "8/8 [==============================] - 0s 12ms/step - loss: 0.0595\n",
            "Epoch 43/50\n",
            "8/8 [==============================] - 0s 10ms/step - loss: 0.0593\n",
            "Epoch 44/50\n",
            "8/8 [==============================] - 0s 10ms/step - loss: 0.0588\n",
            "Epoch 45/50\n",
            "8/8 [==============================] - 0s 10ms/step - loss: 0.0588\n",
            "Epoch 46/50\n",
            "8/8 [==============================] - 0s 12ms/step - loss: 0.0583\n",
            "Epoch 47/50\n",
            "8/8 [==============================] - 0s 10ms/step - loss: 0.0585\n",
            "Epoch 48/50\n",
            "8/8 [==============================] - 0s 10ms/step - loss: 0.0580\n",
            "Epoch 49/50\n",
            "8/8 [==============================] - 0s 11ms/step - loss: 0.0581\n",
            "Epoch 50/50\n",
            "8/8 [==============================] - 0s 10ms/step - loss: 0.0575\n"
          ]
        },
        {
          "output_type": "execute_result",
          "data": {
            "text/plain": [
              "<keras.callbacks.History at 0x7f86665989d0>"
            ]
          },
          "metadata": {},
          "execution_count": 73
        }
      ]
    },
    {
      "cell_type": "code",
      "source": [
        "# Import test data\n",
        "dataset_test = pd.read_csv('/content/drive/MyDrive/AI project/Data/Daily Data/Daily_index_2022.csv')\n",
        "actual_price = dataset_test.iloc[:,1:2].values"
      ],
      "metadata": {
        "id": "Tiw3crvc0pbh"
      },
      "execution_count": null,
      "outputs": []
    },
    {
      "cell_type": "code",
      "source": [
        "# Data processing: concatenate the train and test datasets for prediction (use previous 12 days price to predict the next-day price, so we use the first 12 days of the test dataset)\n",
        "\n",
        "# print(dataset_train['Dji_Price'])\n",
        "# print(dataset_test['Dji_Price'])\n",
        "dataset_total = pd.concat((dataset_train['Dji_Price'],dataset_test['Dji_Price']), axis = 0)\n",
        "# print(len(dataset_total))\n",
        "# print(len(dataset_test))\n",
        "inputs = dataset_total[len(dataset_total) - len(dataset_test) - 12:].values\n",
        "# print(inputs)\n",
        "inputs = inputs.reshape(-1,1)\n",
        "inputs = scaler.transform(inputs)\n",
        "\n",
        "x_test = []\n",
        "for i in range(12, len(inputs)):\n",
        "\n",
        "    x_test.append(inputs[i-12:i,0])\n",
        "x_test = np.array(x_test)\n",
        "# print(x_test.shape)\n",
        "x_test = np.reshape(x_test,(x_test.shape[0], x_test.shape[1],1))\n",
        "# x_test"
      ],
      "metadata": {
        "id": "noCYWSDh1Jiy",
        "colab": {
          "base_uri": "https://localhost:8080/"
        },
        "outputId": "a87dfd86-bb68-48f8-ee57-fea0defcb0b1"
      },
      "execution_count": null,
      "outputs": [
        {
          "output_type": "stream",
          "name": "stdout",
          "text": [
            "[0.91374129 0.90916245 0.82736116 0.76076428 0.84692154 0.8870675\n",
            " 0.91729647 0.97137262 0.98610208 1.         0.9860821  0.97689367] |\n",
            "[0.90916245 0.82736116 0.76076428 0.84692154 0.8870675  0.91729647\n",
            " 0.97137262 0.98610208 1.         0.9860821  0.97689367 1.01482168] |\n",
            "[0.82736116 0.76076428 0.84692154 0.8870675  0.91729647 0.97137262\n",
            " 0.98610208 1.         0.9860821  0.97689367 1.01482168 1.04780503] |\n",
            "[0.76076428 0.84692154 0.8870675  0.91729647 0.97137262 0.98610208\n",
            " 1.         0.9860821  0.97689367 1.01482168 1.04780503 0.98747005] |\n",
            "[0.84692154 0.8870675  0.91729647 0.97137262 0.98610208 1.\n",
            " 0.9860821  0.97689367 1.01482168 1.04780503 0.98747005 0.96124199] |\n",
            "[0.8870675  0.91729647 0.97137262 0.98610208 1.         0.9860821\n",
            " 0.97689367 1.01482168 1.04780503 0.98747005 0.96124199 0.96050267] |\n",
            "[0.91729647 0.97137262 0.98610208 1.         0.9860821  0.97689367\n",
            " 1.01482168 1.04780503 0.98747005 0.96124199 0.96050267 0.93548119] |\n",
            "[0.97137262 0.98610208 1.         0.9860821  0.97689367 1.01482168\n",
            " 1.04780503 0.98747005 0.96124199 0.96050267 0.93548119 0.96363209] |\n",
            "[0.98610208 1.         0.9860821  0.97689367 1.01482168 1.04780503\n",
            " 0.98747005 0.96124199 0.96050267 0.93548119 0.96363209 0.96951895] |\n",
            "[1.         0.9860821  0.97689367 1.01482168 1.04780503 0.98747005\n",
            " 0.96124199 0.96050267 0.93548119 0.96363209 0.96951895 0.94235945] |\n",
            "[0.9860821  0.97689367 1.01482168 1.04780503 0.98747005 0.96124199\n",
            " 0.96050267 0.93548119 0.96363209 0.96951895 0.94235945 0.91134044] |\n",
            "[0.97689367 1.01482168 1.04780503 0.98747005 0.96124199 0.96050267\n",
            " 0.93548119 0.96363209 0.96951895 0.94235945 0.91134044 0.82782689] |\n",
            "[1.01482168 1.04780503 0.98747005 0.96124199 0.96050267 0.93548119\n",
            " 0.96363209 0.96951895 0.94235945 0.91134044 0.82782689 0.77559518] |\n",
            "[1.04780503 0.98747005 0.96124199 0.96050267 0.93548119 0.96363209\n",
            " 0.96951895 0.94235945 0.91134044 0.82782689 0.77559518 0.72744585] |\n",
            "[0.98747005 0.96124199 0.96050267 0.93548119 0.96363209 0.96951895\n",
            " 0.94235945 0.91134044 0.82782689 0.77559518 0.72744585 0.65827596] |\n",
            "[0.96124199 0.96050267 0.93548119 0.96363209 0.96951895 0.94235945\n",
            " 0.91134044 0.82782689 0.77559518 0.72744585 0.65827596 0.67351264] |\n",
            "[0.96050267 0.93548119 0.96363209 0.96951895 0.94235945 0.91134044\n",
            " 0.82782689 0.77559518 0.72744585 0.65827596 0.67351264 0.66324983] |\n",
            "[0.93548119 0.96363209 0.96951895 0.94235945 0.91134044 0.82782689\n",
            " 0.77559518 0.72744585 0.65827596 0.67351264 0.66324983 0.64332363] |\n",
            "[0.96363209 0.96951895 0.94235945 0.91134044 0.82782689 0.77559518\n",
            " 0.72744585 0.65827596 0.67351264 0.66324983 0.64332363 0.64220006] |\n",
            "[0.96951895 0.94235945 0.91134044 0.82782689 0.77559518 0.72744585\n",
            " 0.65827596 0.67351264 0.66324983 0.64332363 0.64220006 0.72899519] |\n",
            "[0.94235945 0.91134044 0.82782689 0.77559518 0.72744585 0.65827596\n",
            " 0.67351264 0.66324983 0.64332363 0.64220006 0.72899519 0.79145897] |\n",
            "[0.91134044 0.82782689 0.77559518 0.72744585 0.65827596 0.67351264\n",
            " 0.66324983 0.64332363 0.64220006 0.72899519 0.79145897 0.83347858] |\n",
            "[0.82782689 0.77559518 0.72744585 0.65827596 0.67351264 0.66324983\n",
            " 0.64332363 0.64220006 0.72899519 0.79145897 0.83347858 0.86792212] |\n",
            "[0.77559518 0.72744585 0.65827596 0.67351264 0.66324983 0.64332363\n",
            " 0.64220006 0.72899519 0.79145897 0.83347858 0.86792212 0.7882773 ] |\n",
            "[0.72744585 0.65827596 0.67351264 0.66324983 0.64332363 0.64220006\n",
            " 0.72899519 0.79145897 0.83347858 0.86792212 0.7882773  0.78498496] |\n",
            "[0.65827596 0.67351264 0.66324983 0.64332363 0.64220006 0.72899519\n",
            " 0.79145897 0.83347858 0.86792212 0.7882773  0.78498496 0.78519861] |\n",
            "[0.67351264 0.66324983 0.64332363 0.64220006 0.72899519 0.79145897\n",
            " 0.83347858 0.86792212 0.7882773  0.78498496 0.78519861 0.84232271] |\n",
            "[0.66324983 0.64332363 0.64220006 0.72899519 0.79145897 0.83347858\n",
            " 0.86792212 0.7882773  0.78498496 0.78519861 0.84232271 0.88924548] |\n",
            "[0.64332363 0.64220006 0.72899519 0.79145897 0.83347858 0.86792212\n",
            " 0.7882773  0.78498496 0.78519861 0.84232271 0.88924548 0.80834029] |\n",
            "[0.64220006 0.72899519 0.79145897 0.83347858 0.86792212 0.7882773\n",
            " 0.78498496 0.78519861 0.84232271 0.88924548 0.80834029 0.73083964] |\n",
            "[0.72899519 0.79145897 0.83347858 0.86792212 0.7882773  0.78498496\n",
            " 0.78519861 0.84232271 0.88924548 0.80834029 0.73083964 0.70445019] |\n",
            "[0.79145897 0.83347858 0.86792212 0.7882773  0.78498496 0.78519861\n",
            " 0.84232271 0.88924548 0.80834029 0.73083964 0.70445019 0.76939476] |\n",
            "[0.83347858 0.86792212 0.7882773  0.78498496 0.78519861 0.84232271\n",
            " 0.88924548 0.80834029 0.73083964 0.70445019 0.76939476 0.76129148] |\n",
            "[0.86792212 0.7882773  0.78498496 0.78519861 0.84232271 0.88924548\n",
            " 0.80834029 0.73083964 0.70445019 0.76939476 0.76129148 0.66531715] |\n",
            "[0.7882773  0.78498496 0.78519861 0.84232271 0.88924548 0.80834029\n",
            " 0.73083964 0.70445019 0.76939476 0.76129148 0.66531715 0.62964859] |\n",
            "[0.78498496 0.78519861 0.84232271 0.88924548 0.80834029 0.73083964\n",
            " 0.70445019 0.76939476 0.76129148 0.66531715 0.62964859 0.55556478] |\n",
            "[0.78519861 0.84232271 0.88924548 0.80834029 0.73083964 0.70445019\n",
            " 0.76939476 0.76129148 0.66531715 0.62964859 0.55556478 0.48411085] |\n",
            "[0.84232271 0.88924548 0.80834029 0.73083964 0.70445019 0.76939476\n",
            " 0.76129148 0.66531715 0.62964859 0.55556478 0.48411085 0.49804104] |\n",
            "[0.88924548 0.80834029 0.73083964 0.70445019 0.76939476 0.76129148\n",
            " 0.66531715 0.62964859 0.55556478 0.48411085 0.49804104 0.62648689] |\n",
            "[0.80834029 0.73083964 0.70445019 0.76939476 0.76129148 0.66531715\n",
            " 0.62964859 0.55556478 0.48411085 0.49804104 0.62648689 0.59897387] |\n",
            "[0.73083964 0.70445019 0.76939476 0.76129148 0.66531715 0.62964859\n",
            " 0.55556478 0.48411085 0.49804104 0.62648689 0.59897387 0.50896632] |\n",
            "[0.70445019 0.76939476 0.76129148 0.66531715 0.62964859 0.55556478\n",
            " 0.48411085 0.49804104 0.62648689 0.59897387 0.50896632 0.60057393] |\n",
            "[0.76939476 0.76129148 0.66531715 0.62964859 0.55556478 0.48411085\n",
            " 0.49804104 0.62648689 0.59897387 0.50896632 0.60057393 0.58597205] |\n",
            "[0.76129148 0.66531715 0.62964859 0.55556478 0.48411085 0.49804104\n",
            " 0.62648689 0.59897387 0.50896632 0.60057393 0.58597205 0.55826075] |\n",
            "[0.66531715 0.62964859 0.55556478 0.48411085 0.49804104 0.62648689\n",
            " 0.59897387 0.50896632 0.60057393 0.58597205 0.55826075 0.43512691] |\n",
            "[0.62964859 0.55556478 0.48411085 0.49804104 0.62648689 0.59897387\n",
            " 0.50896632 0.60057393 0.58597205 0.55826075 0.43512691 0.40717736] |\n",
            "[0.55556478 0.48411085 0.49804104 0.62648689 0.59897387 0.50896632\n",
            " 0.60057393 0.58597205 0.55826075 0.43512691 0.40717736 0.50763371] |\n",
            "[0.48411085 0.49804104 0.62648689 0.59897387 0.50896632 0.60057393\n",
            " 0.58597205 0.55826075 0.43512691 0.40717736 0.50763371 0.49037736] |\n",
            "[0.49804104 0.62648689 0.59897387 0.50896632 0.60057393 0.58597205\n",
            " 0.55826075 0.43512691 0.40717736 0.50763371 0.49037736 0.45507308] |\n",
            "[0.62648689 0.59897387 0.50896632 0.60057393 0.58597205 0.55826075\n",
            " 0.43512691 0.40717736 0.50763371 0.49037736 0.45507308 0.45529595] |\n",
            "[0.59897387 0.50896632 0.60057393 0.58597205 0.55826075 0.43512691\n",
            " 0.40717736 0.50763371 0.49037736 0.45507308 0.45529595 0.54769359] |\n",
            "[0.50896632 0.60057393 0.58597205 0.55826075 0.43512691 0.40717736\n",
            " 0.50763371 0.49037736 0.45507308 0.45529595 0.54769359 0.62725695] |\n",
            "[0.60057393 0.58597205 0.55826075 0.43512691 0.40717736 0.50763371\n",
            " 0.49037736 0.45507308 0.45529595 0.54769359 0.62725695 0.69126085] |\n",
            "[0.58597205 0.55826075 0.43512691 0.40717736 0.50763371 0.49037736\n",
            " 0.45507308 0.45529595 0.54769359 0.62725695 0.69126085 0.73266718] |\n",
            "[0.55826075 0.43512691 0.40717736 0.50763371 0.49037736 0.45507308\n",
            " 0.45529595 0.54769359 0.62725695 0.69126085 0.73266718 0.70248432] |\n",
            "[0.43512691 0.40717736 0.50763371 0.49037736 0.45507308 0.45529595\n",
            " 0.54769359 0.62725695 0.69126085 0.73266718 0.70248432 0.74165887] |\n",
            "[0.40717736 0.50763371 0.49037736 0.45507308 0.45529595 0.54769359\n",
            " 0.62725695 0.69126085 0.73266718 0.70248432 0.74165887 0.67247822] |\n",
            "[0.50763371 0.49037736 0.45507308 0.45529595 0.54769359 0.62725695\n",
            " 0.69126085 0.73266718 0.70248432 0.74165887 0.67247822 0.72617933] |\n",
            "[0.49037736 0.45507308 0.45529595 0.54769359 0.62725695 0.69126085\n",
            " 0.73266718 0.70248432 0.74165887 0.67247822 0.72617933 0.74993429] |\n",
            "[0.45507308 0.45529595 0.54769359 0.62725695 0.69126085 0.73266718\n",
            " 0.70248432 0.74165887 0.67247822 0.72617933 0.74993429 0.76431023] |\n",
            "[0.45529595 0.54769359 0.62725695 0.69126085 0.73266718 0.70248432\n",
            " 0.74165887 0.67247822 0.72617933 0.74993429 0.76431023 0.81655116] |\n",
            "[0.54769359 0.62725695 0.69126085 0.73266718 0.70248432 0.74165887\n",
            " 0.67247822 0.72617933 0.74993429 0.76431023 0.81655116 0.80625914] |\n"
          ]
        }
      ]
    },
    {
      "cell_type": "code",
      "source": [
        "# Precting the price for test price\n",
        "predicted_price = model.predict(x_test)\n",
        "predicted_price = scaler.inverse_transform(x_test)\n",
        "predicted_price"
      ],
      "metadata": {
        "colab": {
          "base_uri": "https://localhost:8080/",
          "height": 375
        },
        "id": "eFacD5fm60YI",
        "outputId": "f1e27613-bac0-4d34-b2f2-f9b399b158b5"
      },
      "execution_count": null,
      "outputs": [
        {
          "output_type": "error",
          "ename": "ValueError",
          "evalue": "ignored",
          "traceback": [
            "\u001b[0;31m---------------------------------------------------------------------------\u001b[0m",
            "\u001b[0;31mValueError\u001b[0m                                Traceback (most recent call last)",
            "\u001b[0;32m<ipython-input-76-146cd55c456a>\u001b[0m in \u001b[0;36m<module>\u001b[0;34m()\u001b[0m\n\u001b[1;32m      1\u001b[0m \u001b[0;31m# Precting the price for test price\u001b[0m\u001b[0;34m\u001b[0m\u001b[0;34m\u001b[0m\u001b[0;34m\u001b[0m\u001b[0m\n\u001b[1;32m      2\u001b[0m \u001b[0mpredicted_price\u001b[0m \u001b[0;34m=\u001b[0m \u001b[0mmodel\u001b[0m\u001b[0;34m.\u001b[0m\u001b[0mpredict\u001b[0m\u001b[0;34m(\u001b[0m\u001b[0mx_test\u001b[0m\u001b[0;34m)\u001b[0m\u001b[0;34m\u001b[0m\u001b[0;34m\u001b[0m\u001b[0m\n\u001b[0;32m----> 3\u001b[0;31m \u001b[0mpredicted_price\u001b[0m \u001b[0;34m=\u001b[0m \u001b[0mscaler\u001b[0m\u001b[0;34m.\u001b[0m\u001b[0minverse_transform\u001b[0m\u001b[0;34m(\u001b[0m\u001b[0mx_test\u001b[0m\u001b[0;34m)\u001b[0m\u001b[0;34m\u001b[0m\u001b[0;34m\u001b[0m\u001b[0m\n\u001b[0m\u001b[1;32m      4\u001b[0m \u001b[0mpredicted_price\u001b[0m\u001b[0;34m\u001b[0m\u001b[0;34m\u001b[0m\u001b[0m\n",
            "\u001b[0;32m/usr/local/lib/python3.7/dist-packages/sklearn/preprocessing/_data.py\u001b[0m in \u001b[0;36minverse_transform\u001b[0;34m(self, X)\u001b[0m\n\u001b[1;32m    524\u001b[0m \u001b[0;34m\u001b[0m\u001b[0m\n\u001b[1;32m    525\u001b[0m         X = check_array(\n\u001b[0;32m--> 526\u001b[0;31m             \u001b[0mX\u001b[0m\u001b[0;34m,\u001b[0m \u001b[0mcopy\u001b[0m\u001b[0;34m=\u001b[0m\u001b[0mself\u001b[0m\u001b[0;34m.\u001b[0m\u001b[0mcopy\u001b[0m\u001b[0;34m,\u001b[0m \u001b[0mdtype\u001b[0m\u001b[0;34m=\u001b[0m\u001b[0mFLOAT_DTYPES\u001b[0m\u001b[0;34m,\u001b[0m \u001b[0mforce_all_finite\u001b[0m\u001b[0;34m=\u001b[0m\u001b[0;34m\"allow-nan\"\u001b[0m\u001b[0;34m\u001b[0m\u001b[0;34m\u001b[0m\u001b[0m\n\u001b[0m\u001b[1;32m    527\u001b[0m         )\n\u001b[1;32m    528\u001b[0m \u001b[0;34m\u001b[0m\u001b[0m\n",
            "\u001b[0;32m/usr/local/lib/python3.7/dist-packages/sklearn/utils/validation.py\u001b[0m in \u001b[0;36mcheck_array\u001b[0;34m(array, accept_sparse, accept_large_sparse, dtype, order, copy, force_all_finite, ensure_2d, allow_nd, ensure_min_samples, ensure_min_features, estimator)\u001b[0m\n\u001b[1;32m    794\u001b[0m             raise ValueError(\n\u001b[1;32m    795\u001b[0m                 \u001b[0;34m\"Found array with dim %d. %s expected <= 2.\"\u001b[0m\u001b[0;34m\u001b[0m\u001b[0;34m\u001b[0m\u001b[0m\n\u001b[0;32m--> 796\u001b[0;31m                 \u001b[0;34m%\u001b[0m \u001b[0;34m(\u001b[0m\u001b[0marray\u001b[0m\u001b[0;34m.\u001b[0m\u001b[0mndim\u001b[0m\u001b[0;34m,\u001b[0m \u001b[0mestimator_name\u001b[0m\u001b[0;34m)\u001b[0m\u001b[0;34m\u001b[0m\u001b[0;34m\u001b[0m\u001b[0m\n\u001b[0m\u001b[1;32m    797\u001b[0m             )\n\u001b[1;32m    798\u001b[0m \u001b[0;34m\u001b[0m\u001b[0m\n",
            "\u001b[0;31mValueError\u001b[0m: Found array with dim 3. Estimator expected <= 2."
          ]
        }
      ]
    },
    {
      "cell_type": "code",
      "source": [
        "from matplotlib import pyplot as plt\n",
        "plt.plot(actual_price, color = 'red', label = 'Actual Price')\n",
        "plt.plot(predicted_price, color = 'blue', label = 'Predicted Price')\n",
        "plt.title('prediction for 2022')\n",
        "plt.xlabel('Time')\n",
        "plt.ylabel('Price')\n",
        "# plt.legend()"
      ],
      "metadata": {
        "colab": {
          "base_uri": "https://localhost:8080/",
          "height": 312
        },
        "id": "Mr5VQ_kIDPXZ",
        "outputId": "9b759bfb-9d46-4df4-a104-e7a6f9acb6a6"
      },
      "execution_count": null,
      "outputs": [
        {
          "output_type": "execute_result",
          "data": {
            "text/plain": [
              "Text(0, 0.5, 'Price')"
            ]
          },
          "metadata": {},
          "execution_count": 71
        },
        {
          "output_type": "display_data",
          "data": {
            "text/plain": [
              "<Figure size 432x288 with 1 Axes>"
            ],
            "image/png": "[encoded data removed]"
          },
          "metadata": {
            "needs_background": "light"
          }
        }
      ]
    }
  ]
}